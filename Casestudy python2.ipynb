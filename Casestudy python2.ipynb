{
 "cells": [
  {
   "cell_type": "markdown",
   "id": "026d2b26",
   "metadata": {},
   "source": [
    "### 1. \n",
    "### Write a Python function to sum all the numbers in a list. (Create a list and get list elements from user)"
   ]
  },
  {
   "cell_type": "code",
   "execution_count": 5,
   "id": "c368b292",
   "metadata": {},
   "outputs": [
    {
     "name": "stdout",
     "output_type": "stream",
     "text": [
      "enter the limit of the list4\n",
      "enter the numbers5\n",
      "enter the numbers6\n",
      "enter the numbers7\n",
      "enter the numbers8\n",
      "sum of the list is : 26\n"
     ]
    }
   ],
   "source": [
    "l=[]\n",
    "def addlist(l):\n",
    "    sum=0\n",
    "    for i in l:\n",
    "        sum=sum+i\n",
    "    print(\"sum of the list is :\",sum)\n",
    "size=int(input('enter the limit of the list'))\n",
    "for i in range(size):\n",
    "    l.append(int(input('enter the numbers')))\n",
    "addlist(l)"
   ]
  },
  {
   "cell_type": "markdown",
   "id": "166dfc7d",
   "metadata": {},
   "source": [
    "### 2.\n",
    "### Write a Python function that checks whether a passed string is palindrome or not."
   ]
  },
  {
   "cell_type": "code",
   "execution_count": 33,
   "id": "0d52cbc3",
   "metadata": {},
   "outputs": [
    {
     "name": "stdout",
     "output_type": "stream",
     "text": [
      "enter the word to check palindrome :amma\n",
      "its a palindrome\n"
     ]
    }
   ],
   "source": [
    "\n",
    "def palin(str):\n",
    "    str1=str[::-1]\n",
    "    if(str1==str):\n",
    "        print(\"its a palindrome\")\n",
    "    else:\n",
    "        print(\"not a palindrome\")\n",
    "string=input('enter the word to check palindrome :')\n",
    "palin(string)"
   ]
  },
  {
   "cell_type": "markdown",
   "id": "d6218d12",
   "metadata": {},
   "source": [
    "### 3.\n",
    "### Write a Python recursive function to find the Fibonacci series. Get the limit from the user3."
   ]
  },
  {
   "cell_type": "code",
   "execution_count": 1,
   "id": "ee8d2f78",
   "metadata": {},
   "outputs": [
    {
     "name": "stdout",
     "output_type": "stream",
     "text": [
      "How many terms? 9\n",
      "Plese enter a positive integer\n",
      "0\n",
      "1\n",
      "1\n",
      "2\n",
      "3\n",
      "5\n",
      "8\n",
      "13\n",
      "21\n"
     ]
    }
   ],
   "source": [
    "def recur_fibo(n):  \n",
    "    if n <= 1: \n",
    "         return n  \n",
    "    else:\n",
    "        return(recur_fibo(n-1) + recur_fibo(n-2))\n",
    "nterms = int(input(\"How many terms? \"))   \n",
    "if nterms <= 0:  \n",
    "     print(\"Plese enter a positive integer\")  \n",
    "else: \n",
    "    print(\"Plese enter a positive integer\")  \n",
    "for i in range(nterms):  \n",
    "       print(recur_fibo(i)) "
   ]
  },
  {
   "cell_type": "markdown",
   "id": "61475f77",
   "metadata": {},
   "source": [
    "### 4.\n",
    "### Write a Python recursive function to print the multiplication table of given number\n",
    "\n"
   ]
  },
  {
   "cell_type": "code",
   "execution_count": 31,
   "id": "c8508475",
   "metadata": {},
   "outputs": [
    {
     "name": "stdout",
     "output_type": "stream",
     "text": [
      "enter the number5\n",
      "5 * 1 = 5\n",
      "5 * 2 = 10\n",
      "5 * 3 = 15\n",
      "5 * 4 = 20\n",
      "5 * 5 = 25\n",
      "5 * 6 = 30\n",
      "5 * 7 = 35\n",
      "5 * 8 = 40\n",
      "5 * 9 = 45\n",
      "5 * 10 = 50\n"
     ]
    }
   ],
   "source": [
    "def multab(N, i):\n",
    "    if (i > 10):\n",
    "        return\n",
    "    print(N,\"*\",i,\"=\",N * i)\n",
    "    return mul_table(N, i + 1)\n",
    " \n",
    "\n",
    "N=int(input('enter the number'))\n",
    "multab(N, 1)"
   ]
  },
  {
   "cell_type": "markdown",
   "id": "cd27ee99",
   "metadata": {},
   "source": [
    "### 5.\n",
    "### Define a function which counts vowels and consonant in a word."
   ]
  },
  {
   "cell_type": "code",
   "execution_count": 8,
   "id": "fe44a290",
   "metadata": {},
   "outputs": [
    {
     "name": "stdout",
     "output_type": "stream",
     "text": [
      "enter the word to count vowels and consonants : elephant\n",
      "Total number of vowels and consonants:\n",
      "Vowels:  3\n",
      "Consonants:  5\n"
     ]
    }
   ],
   "source": [
    "def count_vowels_consonants(sentence):\n",
    "    vcount = 0\n",
    "    ccount = 0\n",
    "    str = sentence.lower()\n",
    "    for i in range(0,len(str)):   \n",
    "        if str[i] in ('a','e','i','o','u'):  \n",
    "            vcount += 1\n",
    "        elif (str[i] >= 'a' and str[i] <= 'z'):  \n",
    "            ccount += 1\n",
    "    print(\"Total number of vowels and consonants:\")  \n",
    "    print(\"Vowels: \", vcount)  \n",
    "    print(\"Consonants: \", ccount)\n",
    "string=input('enter the word to count vowels and consonants : ')\n",
    "count_vowels_consonants(string)\n",
    "      "
   ]
  },
  {
   "cell_type": "markdown",
   "id": "18abdc03",
   "metadata": {},
   "source": [
    "### 6.\n",
    "### Define a function that accepts lowercase words and returns uppercase words."
   ]
  },
  {
   "cell_type": "code",
   "execution_count": 9,
   "id": "7530147f",
   "metadata": {},
   "outputs": [
    {
     "name": "stdout",
     "output_type": "stream",
     "text": [
      "enter the string in lowercasevyshakh\n",
      "VYSHAKH\n"
     ]
    }
   ],
   "source": [
    "def up_case(str):\n",
    "    print(str.upper())\n",
    "str=input('enter the string in lowercase')\n",
    "up_case(str)"
   ]
  },
  {
   "cell_type": "markdown",
   "id": "12ff1e52",
   "metadata": {},
   "source": [
    "### 7.\n",
    "### Write a Python program to remove ‘None’ values from a given list using the lambda function. Given input = [12, 0, None, 23, None, -55, 234, 89, None, 0, 6, -12] Expected output = [12, 0, 23, -55, 234, 89, 0, 6, -12]"
   ]
  },
  {
   "cell_type": "code",
   "execution_count": 51,
   "id": "b75a6069",
   "metadata": {},
   "outputs": [
    {
     "data": {
      "text/plain": [
       "[1, 2, 3, 4, 5]"
      ]
     },
     "execution_count": 51,
     "metadata": {},
     "output_type": "execute_result"
    }
   ],
   "source": [
    "def remove_none(list1):\n",
    "    return list(filter(lambda x: x is not None, list1))\n",
    "list1=[1, 2, None, 3, None, 4, 5]\n",
    "remove_none(list1)"
   ]
  },
  {
   "cell_type": "markdown",
   "id": "a0258090",
   "metadata": {},
   "source": [
    "### 8.\n",
    "### Write a Rectangle class in Python language, allowing you to build a rectangle with length and width attributes.\n",
    "### a. Create a Perimeter() method to calculate the perimeter of the rectangle and a Area() method to calculate the area of the rectangle.\n",
    "### b. Create a method display() that display the length, width, perimeter and area of an object created using an instantiation on rectangle class.\n",
    "### c. Create a Parallelepiped child class inheriting from the Rectangle class and with a height attribute and another Volume() method to calculate the volume of the Parallelepiped."
   ]
  },
  {
   "cell_type": "code",
   "execution_count": 5,
   "id": "9573d17a",
   "metadata": {},
   "outputs": [
    {
     "name": "stdout",
     "output_type": "stream",
     "text": [
      "the length of the rectangle is : 2\n",
      "the breadth of the rectangle is : 4\n",
      "the area of the rectangle is : 8\n",
      "the perimeter of the rectangle is : 12\n",
      "----------------------------------\n",
      "the volume of the Parallelepipede is:  70\n"
     ]
    }
   ],
   "source": [
    "class Rectangle:\n",
    "    def __init__(self,length,breadth):\n",
    "        self.length=length\n",
    "        self.breadth=breadth\n",
    "    def area(self):\n",
    "        return (self.length*self.breadth)\n",
    "    def perimeter(self):\n",
    "        return (2*(self.length+self.breadth))\n",
    "        \n",
    "    def disp(self):\n",
    "        print(\"the length of the rectangle is :\",self.length)\n",
    "        print(\"the breadth of the rectangle is :\",self.breadth)\n",
    "        print(\"the area of the rectangle is :\",self.area())\n",
    "        print(\"the perimeter of the rectangle is :\",self.perimeter())\n",
    "class Parallelepipede(Rectangle):\n",
    "    def __init__(self, length, breadth , height):\n",
    "        Rectangle.__init__(self, length, breadth)\n",
    "        self.height = height\n",
    "    def volume(self):\n",
    "        return self.length*self.breadth*self.height\n",
    "        \n",
    "\n",
    "        \n",
    "r1=Rectangle(2,4)\n",
    "r1.area()\n",
    "r1.perimeter()\n",
    "r1.disp()\n",
    "print(\"----------------------------------\")\n",
    "myParallelepipede = Parallelepipede(7 , 5 , 2)\n",
    "print(\"the volume of the Parallelepipede is: \" , myParallelepipede.volume())\n",
    "        \n",
    "        "
   ]
  },
  {
   "cell_type": "markdown",
   "id": "ca8f1094",
   "metadata": {},
   "source": [
    "### 9.\n",
    "### Create a Python class called BankAccount which represents a bank account, having as attributes: accountNumber (numeric type), name (name of the account owner as string type), balance.\n",
    "### a. Create a constructor with parameters: accountNumber, name, balance.\n",
    "### b. Create a Deposit() method which manages the deposit actions.\n",
    "### c. Create a Withdrawal() method which manages withdrawals actions.\n",
    "### d. Create an bankFees() method to apply the bank fees with a percentage of 5% of the balance account.\n",
    "### e. Create a display() method to display account details.\n",
    "### f. Give the complete code for the BankAccount class."
   ]
  },
  {
   "cell_type": "code",
   "execution_count": 3,
   "id": "ed436d77",
   "metadata": {},
   "outputs": [
    {
     "name": "stdout",
     "output_type": "stream",
     "text": [
      "CHOOSE YOUR OPTION\n",
      " 1.DEPOSIT\n",
      "\n",
      "\n",
      " 2.WITHDRAW\n",
      "\n",
      "\n",
      "1\n",
      "WELCOME TO ATM\n",
      "\n",
      "****************\n",
      "Enter amount to be Deposited: 5000\n",
      "\n",
      " Amount Deposited: 5000.0\n",
      "\n",
      " Account holder Name :  vyshakh\n",
      "\n",
      " Account Number :  123\n",
      "\n",
      " Net Available Balance= 5000.0\n"
     ]
    }
   ],
   "source": [
    "class BankAccount:\n",
    "    def __init__(self,accountNumber,name,balance):\n",
    "        self.accountNumber=accountNumber\n",
    "        self.name=name\n",
    "        self.balance=0\n",
    "        \n",
    "    def deposit(self):\n",
    "        print(\"WELCOME TO ATM\\n\")\n",
    "        print(\"****************\")\n",
    "        amount=float(input(\"Enter amount to be Deposited: \"))\n",
    "        self.balance += amount\n",
    "        print(\"\\n Amount Deposited:\",amount)\n",
    "    def withdraw(self):\n",
    "        amount = float(input(\"Enter amount to be Withdrawn: \"))\n",
    "        if self.balance>=amount:\n",
    "            self.balance-=amount\n",
    "            print(\"\\n You Withdrew:\", amount)\n",
    "        else:\n",
    "            print(\"\\n Insufficient balance  \")\n",
    "    def bankFees(self):\n",
    "        self.balance = (95/100)*self.balance\n",
    "    def display(self):\n",
    "        print(\"\\n Account holder Name : \",self.name)\n",
    "        print(\"\\n Account Number : \",self.accountNumber)\n",
    "        print(\"\\n Net Available Balance=\",self.balance)\n",
    "sbi=BankAccount(123,'vyshakh',500)\n",
    "\n",
    "option=int(input(\"CHOOSE YOUR OPTION\\n 1.DEPOSIT\\n\\n\\n 2.WITHDRAW\\n\\n\\n\"))\n",
    "if(option==1):\n",
    "    sbi.deposit()\n",
    "    sbi.display()\n",
    "else :\n",
    "    sbi.withdraw()\n",
    "    sbi.display()\n",
    "    \n",
    "\n",
    "    \n",
    "\n",
    "\n",
    "\n"
   ]
  },
  {
   "cell_type": "code",
   "execution_count": null,
   "id": "1b2f2e95",
   "metadata": {},
   "outputs": [],
   "source": []
  },
  {
   "cell_type": "markdown",
   "id": "5f4f5057",
   "metadata": {},
   "source": [
    "### 10.\n",
    "### 10. Create a base class rectangle with attributes length and breadth, methods area and perimeter.\n",
    "### a. Save the rectangle class as a python file rectangle.py file.\n",
    "### b. Open another python script and import the rectangle.py file.\n",
    "### c. In the newly created script derive a child class called Parallelepiped class inheriting from the Rectangle class and with a height attribute and another Volume() method to calculate the volume of the Parallelepiped.\n",
    "### d. Now create objects for parent class and child class in newly created script and access methods of parent class and child class.\n",
    "### (Upload the rectangle.py file and python script of question 10 as separate files in github and share the link Paatshala)"
   ]
  },
  {
   "cell_type": "code",
   "execution_count": null,
   "id": "9765ec7c",
   "metadata": {},
   "outputs": [],
   "source": [
    "class Rectangle:\n",
    "    def __init__(self,length,breadth):\n",
    "        self.length=length\n",
    "        self.breadth=breadth\n",
    "    def area(self):\n",
    "        return (self.length*self.breadth)\n",
    "    def perimeter(self):\n",
    "        return (2*(self.length+self.breadth))\n",
    "        \n",
    "    def disp(self):\n",
    "        print(\"the length of the rectangle is :\",self.length)\n",
    "        print(\"the breadth of the rectangle is :\",self.breadth)\n",
    "        print(\"the area of the rectangle is :\",self.area())\n",
    "        print(\"the perimeter of the rectangle is :\",self.perimeter())"
   ]
  },
  {
   "cell_type": "markdown",
   "id": "6f784e5c",
   "metadata": {},
   "source": [
    "#### ALL THE FILES ATTACHED SEPERATELY"
   ]
  },
  {
   "cell_type": "markdown",
   "id": "9f2b8b46",
   "metadata": {},
   "source": [
    "# END"
   ]
  },
  {
   "cell_type": "code",
   "execution_count": null,
   "id": "c07c0beb",
   "metadata": {},
   "outputs": [],
   "source": []
  }
 ],
 "metadata": {
  "kernelspec": {
   "display_name": "Python 3 (ipykernel)",
   "language": "python",
   "name": "python3"
  },
  "language_info": {
   "codemirror_mode": {
    "name": "ipython",
    "version": 3
   },
   "file_extension": ".py",
   "mimetype": "text/x-python",
   "name": "python",
   "nbconvert_exporter": "python",
   "pygments_lexer": "ipython3",
   "version": "3.9.12"
  }
 },
 "nbformat": 4,
 "nbformat_minor": 5
}
