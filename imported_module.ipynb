{
 "cells": [
  {
   "cell_type": "markdown",
   "id": "98254f66",
   "metadata": {},
   "source": [
    "### 10. Imported Module"
   ]
  },
  {
   "cell_type": "code",
   "execution_count": 3,
   "id": "a77acd34",
   "metadata": {},
   "outputs": [],
   "source": [
    "import my_rectangle as m"
   ]
  },
  {
   "cell_type": "code",
   "execution_count": 11,
   "id": "3797aee5",
   "metadata": {},
   "outputs": [],
   "source": [
    "class Parallelepipede(m.Rectangle):\n",
    "    def __init__(self, length, breadth , height):\n",
    "        m.Rectangle.__init__(self, length, breadth)\n",
    "        self.height = height\n",
    "    def volume(self):\n",
    "        return self.length*self.breadth*self.height"
   ]
  },
  {
   "cell_type": "code",
   "execution_count": 12,
   "id": "43fcac0f",
   "metadata": {},
   "outputs": [
    {
     "name": "stdout",
     "output_type": "stream",
     "text": [
      "from parent class area :  8\n",
      "from parent class perimeter :  12\n"
     ]
    }
   ],
   "source": [
    "obj1=m.Rectangle(2,4)\n",
    "print(\"from parent class area : \",obj1.area())\n",
    "      \n",
    "print(\"from parent class perimeter : \",obj1.perimeter())"
   ]
  },
  {
   "cell_type": "code",
   "execution_count": 13,
   "id": "dc0dcb74",
   "metadata": {},
   "outputs": [
    {
     "name": "stdout",
     "output_type": "stream",
     "text": [
      "the volume of the Parallelepipede is:  70\n"
     ]
    }
   ],
   "source": [
    "myParallelepipede = Parallelepipede(7 , 5 , 2)\n",
    "print(\"the volume of the Parallelepipede is: \" , myParallelepipede.volume())"
   ]
  },
  {
   "cell_type": "code",
   "execution_count": null,
   "id": "3635a0b0",
   "metadata": {},
   "outputs": [],
   "source": []
  }
 ],
 "metadata": {
  "kernelspec": {
   "display_name": "Python 3 (ipykernel)",
   "language": "python",
   "name": "python3"
  },
  "language_info": {
   "codemirror_mode": {
    "name": "ipython",
    "version": 3
   },
   "file_extension": ".py",
   "mimetype": "text/x-python",
   "name": "python",
   "nbconvert_exporter": "python",
   "pygments_lexer": "ipython3",
   "version": "3.9.12"
  }
 },
 "nbformat": 4,
 "nbformat_minor": 5
}
