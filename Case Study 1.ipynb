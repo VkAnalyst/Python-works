{
 "cells": [
  {
   "cell_type": "markdown",
   "id": "cd6b4c90",
   "metadata": {},
   "source": [
    "## CASESTUDY 1"
   ]
  },
  {
   "cell_type": "markdown",
   "id": "dfb44ac2",
   "metadata": {},
   "source": [
    "## 1.\n",
    "A school has following rules for grading system:\n",
    "a. Below 25 - F\n",
    "b. 25 to 45 - E\n",
    "c. 45 to 50 - D\n",
    "d. 50 to 60 - C\n",
    "e. 60 to 80 - B\n",
    "f. Above 80 - A\n",
    "Ask user to enter marks and print the corresponding grade."
   ]
  },
  {
   "cell_type": "code",
   "execution_count": 2,
   "id": "92d31333",
   "metadata": {},
   "outputs": [
    {
     "name": "stdout",
     "output_type": "stream",
     "text": [
      "Enter your marks67\n",
      "Grade: B\n"
     ]
    }
   ],
   "source": [
    "marks=int(input('Enter your marks'))\n",
    "if(marks>=80):\n",
    "    print(\"Grade: A\")\n",
    "elif(marks>=60&marks<80):\n",
    "    print(\"Grade: B\")\n",
    "elif(marks>=50&marks<60):\n",
    "    print(\"Grade: C\")\n",
    "elif(marks>=45&marks<50):\n",
    "    print(\"Grade: D\")\n",
    "else:\n",
    "    print(\"Grade: F\")"
   ]
  },
  {
   "cell_type": "markdown",
   "id": "212aca59",
   "metadata": {},
   "source": [
    "## 2. \n",
    "You have a list of names. Create a new list which contains only the names with non-repeating characters.\n",
    "Sample input = [‘John’,’Peter’,’Meera’,’Mini’,’Krishna’]\n",
    "Sample output = [‘John’,Krishna]"
   ]
  },
  {
   "cell_type": "code",
   "execution_count": 7,
   "id": "525a038a",
   "metadata": {},
   "outputs": [
    {
     "name": "stdout",
     "output_type": "stream",
     "text": [
      "['John', 'Krishna']\n"
     ]
    }
   ],
   "source": [
    "l=[]\n",
    "S1= ['John','Peter','Meera','Mini','Krishna'] \n",
    "for name in S1:\n",
    "    if len(name) == len(set(name)):\n",
    "            l.append(name)\n",
    "print(l)"
   ]
  },
  {
   "cell_type": "markdown",
   "id": "0d97a383",
   "metadata": {},
   "source": [
    "## 3.\n",
    "Take values of length and breadth of a rectangle from user and check if it is square or not."
   ]
  },
  {
   "cell_type": "code",
   "execution_count": 1,
   "id": "e431b71c",
   "metadata": {},
   "outputs": [
    {
     "name": "stdout",
     "output_type": "stream",
     "text": [
      "enter the length4\n",
      "enter the breadth4\n",
      "this is a square\n"
     ]
    }
   ],
   "source": [
    "l=int(input('enter the length'))\n",
    "b=int(input('enter the breadth'))\n",
    "if(l==b):\n",
    "    print('this is a square')\n",
    "else:\n",
    "    print('this is a rectangle')\n",
    "    \n",
    "\n"
   ]
  },
  {
   "cell_type": "markdown",
   "id": "c1f3486b",
   "metadata": {},
   "source": [
    "## 4.\n",
    "A student will not be allowed to sit in exam if his/her attendance is less than 75%. Take following input from user Number of classes held Number of classes attended. And print percentage of class attended Is student is allowed to sit in exam or not."
   ]
  },
  {
   "cell_type": "code",
   "execution_count": 4,
   "id": "aed194c8",
   "metadata": {},
   "outputs": [
    {
     "name": "stdout",
     "output_type": "stream",
     "text": [
      "enter the number of classes held :45\n",
      "enter the number of classes attended :40\n",
      "attendance percentage:  89\n",
      "you are eligible\n"
     ]
    }
   ],
   "source": [
    "Nclass=int(input('enter the number of classes held :'))\n",
    "Nattend=int(input('enter the number of classes attended :'))\n",
    "attpercentage=(Nattend/Nclass)*100\n",
    "print('attendance percentage: ',round(attpercentage))\n",
    "if(attpercentage<75):\n",
    "    print('you are not eligible to sit for the exam')\n",
    "else:\n",
    "    print('you are eligible')"
   ]
  },
  {
   "cell_type": "markdown",
   "id": "dcd62ae7",
   "metadata": {},
   "source": [
    "## 5. \n",
    "Create a list by taking length of the list and elements of the list from user.\n",
    "Then find the sum of the elements of the list. Also create a new called even\n",
    "list which contains only even numbers from first list and odd list which\n",
    "contains odd numbers from the list.\n",
    "Sample input:\n",
    "Length of the list = 5\n",
    "List1 = [2,6,3,1,5]\n",
    "Sum = 17\n",
    "Even_list=[2,6]\n",
    "Odd_list=[3,1,5]"
   ]
  },
  {
   "cell_type": "code",
   "execution_count": 21,
   "id": "5825f6e6",
   "metadata": {},
   "outputs": [
    {
     "name": "stdout",
     "output_type": "stream",
     "text": [
      "enter the legth of the list4\n",
      "enter the elements5\n",
      "enter the elements6\n",
      "enter the elements7\n",
      "enter the elements8\n",
      "list is: [5, 6, 7, 8]\n",
      "6\n",
      "8\n",
      "even numbers are: [6, 8]\n",
      "5\n",
      "7\n",
      "odd numbers are: [5, 7]\n"
     ]
    }
   ],
   "source": [
    "l=[]\n",
    "even=[]\n",
    "odd=[]\n",
    "length=int(input('enter the legth of the list'))\n",
    "for i in range(0,length):\n",
    "    e=int(input('enter the elements'))\n",
    "    l.append(e)\n",
    "print('list is:',l)\n",
    "for i in l:\n",
    "    if(i%2==0):\n",
    "        even.append(i)\n",
    "print('even numbers are:',even)\n",
    "for i in l:\n",
    "    if(i%2!=0):\n",
    "        odd.append(i)\n",
    "print('odd numbers are:',odd)      \n",
    "\n"
   ]
  },
  {
   "cell_type": "markdown",
   "id": "af42c6ea",
   "metadata": {},
   "source": [
    "## 6.\n",
    "Create a sample chatbot for an ecommerce website."
   ]
  },
  {
   "cell_type": "code",
   "execution_count": null,
   "id": "0d26535a",
   "metadata": {},
   "outputs": [
    {
     "name": "stdout",
     "output_type": "stream",
     "text": [
      "Welcome to MYstore!\n",
      "i am Zara your Assistant\n",
      "How can I help you today? (Type 'quit' to exit) products\n",
      "We offer the following products:\n",
      "1.Vegetables\n",
      "2.Groceries\n",
      "3.Home appliances\n",
      "How can I help you today? (Type 'quit' to exit) Vegetables\n",
      "Sorry, I didn't understand your request. Can you please rephrase or try a different command?\n"
     ]
    }
   ],
   "source": [
    "print(\"Welcome to MYstore!\")\n",
    "print('i am Zara your Assistant')\n",
    "\n",
    "while True:\n",
    "    user_input = input(\"How can I help you today? (Type 'quit' to exit) \").lower()\n",
    "    if user_input == \"quit\":\n",
    "        print('thanks for your valuable time,see you later!!')\n",
    "        break\n",
    "    elif user_input == \"products\":\n",
    "        print(\"We offer the following products:\")\n",
    "        print(\"1.Vegetables\")\n",
    "        print(\"2.Groceries\")\n",
    "        print(\"3.Home appliances\")\n",
    "    elif user_input ==\"Vegetables\":\n",
    "        print(\"we have special offers for vegetables today!! HURRY UP:DO you want to seee it???????\")\n",
    "    elif user_input == \"yes\":\n",
    "        print(\"select vegetables and add to your cart:\")\n",
    "        print(\"1.Tomato\")\n",
    "        print(\"2.Onion\")\n",
    "        print(\"3.Chilli\")\n",
    "    elif user_input == \"Groceries\":\n",
    "       \n",
    "        print(\"50% off on Selected Grocerie items\"+\"HURRAY......\"+\"would you like to see it\")\n",
    "        print(\"select vegetables and add to your cart:\")\n",
    "        print(\"1.Rice\")\n",
    "        print(\"2.flour\")\n",
    "        print(\"3.Milk\") \n",
    "    elif user_input == \"Home appliances\":\n",
    "        print(\"We have several options for Home aplliances?\")\n",
    "        print(\"1.mixie\")\n",
    "        print(\"2.washing machines\")\n",
    "        print(\"3.Fridges\") \n",
    "    else:\n",
    "        print(\"Sorry, I didn't understand your request. Can you please rephrase or try a different command?\")\n"
   ]
  },
  {
   "cell_type": "markdown",
   "id": "0d470522",
   "metadata": {},
   "source": [
    "## 7.\n",
    "Write a program to find the roots of a quadratic equation. Get the co-efficients of quadratic equation ax^2+bx+c and display whether the roots are real and equal or real and distinct or roots are imaginary. You have to find the roots and display it as well."
   ]
  },
  {
   "cell_type": "code",
   "execution_count": 16,
   "id": "1eb6098d",
   "metadata": {},
   "outputs": [
    {
     "name": "stdout",
     "output_type": "stream",
     "text": [
      "enter the coefficient of x^22\n",
      "enter the coefficient of x3\n",
      "enter the cconstant1\n",
      "discriminant : 1\n",
      "two distinct real solutions\n",
      "The solution are (-1+0j) and (-0.5+0j)\n"
     ]
    }
   ],
   "source": [
    "import cmath\n",
    "a = int(input('enter the coefficient of x^2'))\n",
    "b = int(input('enter the coefficient of x'))\n",
    "c = int(input('enter the cconstant'))\n",
    "d = (b**2) - (4*a*c)\n",
    "print('discriminant :',d)\n",
    "if(d>0):\n",
    "    print('two distinct real solutions')\n",
    "elif(d==0):\n",
    "    print('1 real solution')\n",
    "elif(d<0):\n",
    "    print('imaginary solution')\n",
    "sol1 = (-b-cmath.sqrt(d))/(2*a)\n",
    "sol2 = (-b+cmath.sqrt(d))/(2*a)\n",
    "\n",
    "print('The solution are {0} and {1}'.format(sol1,sol2))"
   ]
  },
  {
   "cell_type": "markdown",
   "id": "15967459",
   "metadata": {},
   "source": [
    "## 8.\n",
    "Given a range of first 10 numbers, write a Python program to iterate from start number to the end number and print the sum of the current number and previous number.\n",
    "Sample input: 1….10\n",
    "Sample output: Current Number 1 Previous Number 0 Sum: 1\n",
    "Current Number 2 Previous Number 1 Sum: 3\n",
    "Current Number 3 Previous Number 2 Sum: 5…\n",
    "…….\n",
    "Current Number 10 Previous Number 9 Sum: 19"
   ]
  },
  {
   "cell_type": "code",
   "execution_count": 19,
   "id": "b6d7764b",
   "metadata": {},
   "outputs": [
    {
     "name": "stdout",
     "output_type": "stream",
     "text": [
      "Current number 0 Previous Number 0 is 0\n",
      "Current number 1 Previous Number 0 is 1\n",
      "Current number 2 Previous Number 1 is 3\n",
      "Current number 3 Previous Number 2 is 5\n",
      "Current number 4 Previous Number 3 is 7\n",
      "Current number 5 Previous Number 4 is 9\n",
      "Current number 6 Previous Number 5 is 11\n",
      "Current number 7 Previous Number 6 is 13\n",
      "Current number 8 Previous Number 7 is 15\n",
      "Current number 9 Previous Number 8 is 17\n"
     ]
    }
   ],
   "source": [
    "num = 0\n",
    "for i in range(10):\n",
    "    sum =num + i\n",
    "    print('Current number',i,'Previous Number',num,'is',sum)\n",
    "    num = i\n"
   ]
  },
  {
   "cell_type": "code",
   "execution_count": null,
   "id": "37066976",
   "metadata": {},
   "outputs": [],
   "source": []
  },
  {
   "cell_type": "markdown",
   "id": "0210f03a",
   "metadata": {},
   "source": [
    "## 9.\n",
    "Write a Python program to find the prime numbers in a given range. Get the range from user and print prime numbers in that range."
   ]
  },
  {
   "cell_type": "code",
   "execution_count": 21,
   "id": "125835d9",
   "metadata": {},
   "outputs": [
    {
     "name": "stdout",
     "output_type": "stream",
     "text": [
      "enter the starting number4\n",
      "enter the ending limit14\n",
      "5 7 11 13 "
     ]
    }
   ],
   "source": [
    "start=int(input('enter the starting number'))\n",
    "end=int(input('enter the ending limit'))\n",
    "for i in range(start,end+1):\n",
    "        if (i == 1):\n",
    "            continue\n",
    "        flag = 1 \n",
    "        for j in range(2, i // 2 + 1):\n",
    "            if (i % j == 0):\n",
    "                flag = 0\n",
    "                break\n",
    "        if (flag == 1):\n",
    "            print(i, end = \" \")"
   ]
  },
  {
   "cell_type": "markdown",
   "id": "52aacf8b",
   "metadata": {},
   "source": [
    "## 10.\n",
    "Write a Python program to print Fibonacci series in a given range. Get the range from user and print prime numbers in that range."
   ]
  },
  {
   "cell_type": "code",
   "execution_count": 23,
   "id": "2eec883c",
   "metadata": {},
   "outputs": [
    {
     "name": "stdout",
     "output_type": "stream",
     "text": [
      "enter the ending limit10\n",
      "Fibonacci Series: 0 1 1 2 3 5 8 13 21 34 55 89 \n"
     ]
    }
   ],
   "source": [
    "\n",
    "end=int(input('enter the ending limit'))\n",
    "n1, n2 = 0, 1\n",
    "print(\"Fibonacci Series:\", n1, n2, end=\" \")\n",
    "for i in range(end):\n",
    "    n3 = n1 + n2\n",
    "    n1 = n2\n",
    "    n2 = n3\n",
    "    print(n3, end=\" \")\n",
    "\n",
    "print()"
   ]
  },
  {
   "cell_type": "markdown",
   "id": "4f97031b",
   "metadata": {},
   "source": [
    "##### END"
   ]
  },
  {
   "cell_type": "code",
   "execution_count": null,
   "id": "59fb1009",
   "metadata": {},
   "outputs": [],
   "source": []
  }
 ],
 "metadata": {
  "kernelspec": {
   "display_name": "Python 3 (ipykernel)",
   "language": "python",
   "name": "python3"
  },
  "language_info": {
   "codemirror_mode": {
    "name": "ipython",
    "version": 3
   },
   "file_extension": ".py",
   "mimetype": "text/x-python",
   "name": "python",
   "nbconvert_exporter": "python",
   "pygments_lexer": "ipython3",
   "version": "3.9.12"
  }
 },
 "nbformat": 4,
 "nbformat_minor": 5
}
