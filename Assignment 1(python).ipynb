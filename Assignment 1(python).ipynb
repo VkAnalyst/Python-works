{
 "cells": [
  {
   "cell_type": "markdown",
   "id": "aad0d01f",
   "metadata": {},
   "source": [
    "#### 1.\n",
    "Write a Python Program to accept the details of a student like name, roll number and mark and display it.\n",
    "Sample input: Enter the name: Anisha\n",
    "Enter the roll number: 21\n",
    "Enter the mark: 78\n",
    "Sample output:\n",
    "Name: Anisha\n",
    "Roll No: 21\n",
    "Mark: 78"
   ]
  },
  {
   "cell_type": "code",
   "execution_count": 2,
   "id": "2b105382",
   "metadata": {},
   "outputs": [
    {
     "name": "stdout",
     "output_type": "stream",
     "text": [
      "Enter the name :vyshakh\n",
      "enter the roll number :30\n",
      "enter the mark :100\n",
      "name  : vyshakh\n",
      "Rollno : 30\n",
      "mark : 100\n"
     ]
    }
   ],
   "source": [
    "name=input('Enter the name :')\n",
    "rollno=int(input('enter the roll number :'))\n",
    "mark=int(input('enter the mark :'))\n",
    "print('name  :',name)\n",
    "print('Rollno :',rollno)\n",
    "print('mark :',mark)"
   ]
  },
  {
   "cell_type": "code",
   "execution_count": null,
   "id": "56721f20",
   "metadata": {},
   "outputs": [],
   "source": []
  },
  {
   "cell_type": "markdown",
   "id": "2317edf9",
   "metadata": {},
   "source": [
    "#### 2.\n",
    "Write a Python program to convert temperatures to and from Celsius Fahrenheit. [Formula: c/5=f-32/9 where c=temperature in Celsius and f= temperature in Fahrenheit.] Sample input: Temperature in Fahrenheit =41 Sample output: Temperature in Celsius =5"
   ]
  },
  {
   "cell_type": "code",
   "execution_count": 11,
   "id": "a0c687eb",
   "metadata": {},
   "outputs": [
    {
     "name": "stdout",
     "output_type": "stream",
     "text": [
      "enter your choice\n",
      "1.celsius to farenheit\n",
      "2.farenheit to celsius\n",
      "\n",
      "2\n",
      "enter the temperature in farenheit34\n",
      "34 is 8.33 degree\n"
     ]
    }
   ],
   "source": [
    "print('enter your choice')\n",
    "print('1.celsius to farenheit'+'\\n'+'2.farenheit to celsius'+'\\n')\n",
    "choice=int(input())\n",
    "if choice==1:\n",
    "    celsius=int(input('enter the temperature in celsius'))\n",
    "    Fahrenheit=(celsius*1.8)+32\n",
    "    print(celsius,'degree'+' '+'is',Fahrenheit,'farenheit')\n",
    "elif choice==2:\n",
    "         Fahrenhe=int(input('enter the temperature in farenheit'))\n",
    "         Celsi=(Fahrenheit-32)/1.8\n",
    "print(Fahrenhe,'is',round(Celsi,2),'degree')\n",
    "       \n",
    "\n"
   ]
  },
  {
   "cell_type": "markdown",
   "id": "593f0156",
   "metadata": {},
   "source": [
    "#### 3.\n",
    "Write a Python program to accept two numbers from the user and display\n",
    "its product."
   ]
  },
  {
   "cell_type": "code",
   "execution_count": 4,
   "id": "e5e2f050",
   "metadata": {},
   "outputs": [
    {
     "name": "stdout",
     "output_type": "stream",
     "text": [
      "enter the first number4\n",
      "enter the second number5\n",
      "product of the numbers 4 and 5 is 20\n"
     ]
    }
   ],
   "source": [
    "number1=int(input('enter the first number'))\n",
    "number2=int(input('enter the second number'))\n",
    "product=number1*number2\n",
    "print('product of the numbers',number1,'and',number2,'is',product)"
   ]
  },
  {
   "cell_type": "markdown",
   "id": "7bfa4605",
   "metadata": {},
   "source": [
    "#### 4.\n",
    "Write a Python program to accept a string “Learn Python by Developing a\n",
    "Website” and display the string like “Learn**Python** by Developing a\n",
    "**Website**”"
   ]
  },
  {
   "cell_type": "code",
   "execution_count": 31,
   "id": "a2f43732",
   "metadata": {},
   "outputs": [],
   "source": [
    "string=\"Learn Python by Developing a Website\""
   ]
  },
  {
   "cell_type": "code",
   "execution_count": 32,
   "id": "27d30c80",
   "metadata": {},
   "outputs": [
    {
     "name": "stdout",
     "output_type": "stream",
     "text": [
      "Learn **Python**by Developing a **Website**\n"
     ]
    }
   ],
   "source": [
    "print(\"Learn **Python**by Developing a **Website**\")"
   ]
  },
  {
   "cell_type": "markdown",
   "id": "31abd8b0",
   "metadata": {},
   "source": [
    "#### 5.\n",
    "Write a Python program to accept the radius of a circle and display its area."
   ]
  },
  {
   "cell_type": "code",
   "execution_count": 5,
   "id": "dc40b27e",
   "metadata": {},
   "outputs": [
    {
     "name": "stdout",
     "output_type": "stream",
     "text": [
      "enter the radius of the circle5\n",
      "area of the circle with radius 5 is 78.5\n"
     ]
    }
   ],
   "source": [
    "radius=int(input('enter the radius of the circle'))\n",
    "pi=3.14;\n",
    "area=pi*radius*radius\n",
    "print('area of the circle with radius',radius,'is',area)\n"
   ]
  },
  {
   "cell_type": "markdown",
   "id": "a6cfdad9",
   "metadata": {},
   "source": [
    "#### 6.\n",
    "Python program to insert a number to any position in a list (Get the number to be inserted and position from the user)\n"
   ]
  },
  {
   "cell_type": "code",
   "execution_count": 6,
   "id": "64f781d6",
   "metadata": {},
   "outputs": [],
   "source": [
    "list1=[1,2,3,4,5,6]\n"
   ]
  },
  {
   "cell_type": "code",
   "execution_count": 12,
   "id": "7c26bd57",
   "metadata": {},
   "outputs": [
    {
     "name": "stdout",
     "output_type": "stream",
     "text": [
      "enter the element to insert : 3\n",
      "enter the position you need to add the elemenent : 4\n",
      "element inserted\n"
     ]
    }
   ],
   "source": [
    "\n",
    "element=int(input('enter the element to insert : '))\n",
    "index=int(input('enter the position you need to add the elemenent : '))\n",
    "list1.insert(index,element)\n",
    "print('element inserted')"
   ]
  },
  {
   "cell_type": "code",
   "execution_count": 13,
   "id": "085342e3",
   "metadata": {},
   "outputs": [
    {
     "data": {
      "text/plain": [
       "[1, 2, 3, 4, 3, 4, 5, 6]"
      ]
     },
     "execution_count": 13,
     "metadata": {},
     "output_type": "execute_result"
    }
   ],
   "source": [
    "list1"
   ]
  },
  {
   "cell_type": "markdown",
   "id": "0af45102",
   "metadata": {},
   "source": [
    "#### 7.\n",
    "Write a program to rename a key city to a location in the following dictionary.\n",
    "sample_dict = { \"name\": \"John\", \"age\":5, \"salary\": 8000, \"city\": \"New York\"}"
   ]
  },
  {
   "cell_type": "code",
   "execution_count": 18,
   "id": "4f66532e",
   "metadata": {},
   "outputs": [],
   "source": [
    "d= { \"name\": \"John\", \"age\":5, \"salary\": 8000, \"city\": \"New York\"}"
   ]
  },
  {
   "cell_type": "code",
   "execution_count": 20,
   "id": "55a2ee41",
   "metadata": {},
   "outputs": [
    {
     "name": "stdout",
     "output_type": "stream",
     "text": [
      "{'name': 'John', 'age': 5, 'salary': 8000, 'location': 'New York'}\n"
     ]
    }
   ],
   "source": [
    "\n",
    "\n",
    "d[\"location\"] = d.pop(\"city\")\n",
    "\n",
    "print(d)\n"
   ]
  },
  {
   "cell_type": "code",
   "execution_count": null,
   "id": "8a6fcb2e",
   "metadata": {},
   "outputs": [],
   "source": []
  },
  {
   "cell_type": "markdown",
   "id": "d6f26f69",
   "metadata": {},
   "source": [
    "\n",
    "#### 8.\n",
    "Write a Python program to change Brad’s salary to 8500 in the following dictionary.\n",
    "sample_dict = {\n",
    "'emp1': {'name': 'John', 'salary': 7500},\n",
    "'emp2': {'name': 'Emma', 'salary': 8000},\n",
    "'emp3': {'name': 'Brad', 'salary': 500}\n",
    "}"
   ]
  },
  {
   "cell_type": "code",
   "execution_count": 24,
   "id": "1231beb7",
   "metadata": {},
   "outputs": [],
   "source": [
    "sample_dict = {\n",
    "'emp1': {'name': 'John', 'salary': 7500},\n",
    "'emp2': {'name': 'Emma', 'salary': 8000},\n",
    "'emp3': {'name': 'Brad', 'salary': 500}\n",
    "}"
   ]
  },
  {
   "cell_type": "code",
   "execution_count": 25,
   "id": "0f156fc2",
   "metadata": {},
   "outputs": [
    {
     "data": {
      "text/plain": [
       "{'emp1': {'name': 'John', 'salary': 7500},\n",
       " 'emp2': {'name': 'Emma', 'salary': 8000},\n",
       " 'emp3': {'name': 'Brad', 'salary': 500}}"
      ]
     },
     "execution_count": 25,
     "metadata": {},
     "output_type": "execute_result"
    }
   ],
   "source": [
    "sample_dict"
   ]
  },
  {
   "cell_type": "code",
   "execution_count": 29,
   "id": "f496ab6a",
   "metadata": {},
   "outputs": [
    {
     "data": {
      "text/plain": [
       "{'emp1': {'name': 'John', 'salary': 8500},\n",
       " 'emp2': {'name': 'Emma', 'salary': 8000},\n",
       " 'emp3': {'name': 'Brad', 'salary': 500}}"
      ]
     },
     "execution_count": 29,
     "metadata": {},
     "output_type": "execute_result"
    }
   ],
   "source": [
    "sample_dict['emp1']['salary']=8500\n",
    "sample_dict"
   ]
  },
  {
   "cell_type": "markdown",
   "id": "4576e07f",
   "metadata": {},
   "source": [
    "#### 9.\n",
    "Write a program to copy elements 43 and 54 from the following tuple into a new tuple. Given:\n",
    "tuple1 = (10, 20, 43, 54, 56, 68)"
   ]
  },
  {
   "cell_type": "code",
   "execution_count": 21,
   "id": "b69e0b31",
   "metadata": {},
   "outputs": [],
   "source": [
    "t1 = (10, 20, 43, 54, 56, 68)"
   ]
  },
  {
   "cell_type": "code",
   "execution_count": 23,
   "id": "959b9e52",
   "metadata": {},
   "outputs": [
    {
     "name": "stdout",
     "output_type": "stream",
     "text": [
      "(43, 54)\n"
     ]
    }
   ],
   "source": [
    "t2 = t1[2:4]\n",
    "print(t2)"
   ]
  },
  {
   "cell_type": "markdown",
   "id": "4c5baeaa",
   "metadata": {},
   "source": [
    "#### 10.\n",
    "Counts the number of occurrences of item 50 from a tuple\n",
    "tuple1 = (50, 10, 60, 70, 50,83,567,50,81)"
   ]
  },
  {
   "cell_type": "code",
   "execution_count": 27,
   "id": "c759d30b",
   "metadata": {},
   "outputs": [],
   "source": [
    "tuple1 = (50, 10, 60, 70, 50,83,567,50,81)"
   ]
  },
  {
   "cell_type": "code",
   "execution_count": 28,
   "id": "01dd39af",
   "metadata": {},
   "outputs": [
    {
     "data": {
      "text/plain": [
       "3"
      ]
     },
     "execution_count": 28,
     "metadata": {},
     "output_type": "execute_result"
    }
   ],
   "source": [
    "tuple1.count(50)"
   ]
  },
  {
   "cell_type": "markdown",
   "id": "b4b79798",
   "metadata": {},
   "source": [
    "### End"
   ]
  },
  {
   "cell_type": "code",
   "execution_count": null,
   "id": "14252ec1",
   "metadata": {},
   "outputs": [],
   "source": []
  }
 ],
 "metadata": {
  "kernelspec": {
   "display_name": "Python 3 (ipykernel)",
   "language": "python",
   "name": "python3"
  },
  "language_info": {
   "codemirror_mode": {
    "name": "ipython",
    "version": 3
   },
   "file_extension": ".py",
   "mimetype": "text/x-python",
   "name": "python",
   "nbconvert_exporter": "python",
   "pygments_lexer": "ipython3",
   "version": "3.9.12"
  }
 },
 "nbformat": 4,
 "nbformat_minor": 5
}
